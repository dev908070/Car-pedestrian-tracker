{
 "cells": [
  {
   "cell_type": "code",
   "execution_count": 24,
   "id": "1c70ad64",
   "metadata": {},
   "outputs": [
    {
     "name": "stdout",
     "output_type": "stream",
     "text": [
      "execution completed\n"
     ]
    }
   ],
   "source": [
    "###### car and pedestrian detection system\n",
    "import cv2\n",
    "\n",
    "#our video\n",
    "video=cv2.VideoCapture(\"pedestrians.mp4\")\n",
    "\n",
    "#pre-trained data in xml format\n",
    "car_classifier='car.xml'\n",
    "pedestrain_classifier=\"pedestrain.xml\"\n",
    "\n",
    "#create classifier\n",
    "car_tracker=cv2.CascadeClassifier(car_classifier)\n",
    "pedestrain_tracker=cv2.CascadeClassifier(pedestrain_classifier)\n",
    "\n",
    "#run untill car stop\n",
    "while True:\n",
    "     \n",
    "    #read the current frame\n",
    "    (read_successful,frame)=video.read()\n",
    "    #safe coding\n",
    "    if read_successful:\n",
    "        #must convert to gray scale\n",
    "        grayscaled_frame=cv2.cvtColor(frame,cv2.COLOR_BGR2GRAY)\n",
    "    else:\n",
    "        break\n",
    "    \n",
    "    #detect cars\n",
    "    cars=car_tracker.detectMultiScale(grayscaled_frame)\n",
    "    pedestrains=pedestrain_tracker.detectMultiScale(grayscaled_frame)\n",
    "    \n",
    "    #Drow rectangle around the car\n",
    "    for (x,y,w,h) in cars:\n",
    "        cv2.rectangle(frame,(x+2,y+2),(x+w,y+h),(225,0,0),2)\n",
    "        cv2.rectangle(frame,(x,y),(x+40,y+40),(0,0,225),2)\n",
    "    for (x,y,w,h) in pedestrains:\n",
    "        cv2.rectangle(frame,(x,y),(x+w,y+h),(0,225,225),2)\n",
    "    \n",
    "    cv2.imshow(\"Dev car deshboard  press esc button to exit from this window\",frame  )\n",
    "    #dont autoclose (wait here to press any key)\n",
    "    key=cv2.waitKey(1)\n",
    "    if key%256 == 27:\n",
    "            break\n",
    "    elif key%256 == 32:\n",
    "            break\n",
    "\n",
    "\n",
    "cv2.destroyAllWindows()\n",
    "#Release the video capture object\n",
    "\n",
    "video.release()\n",
    "print(\"execution completed\")\n",
    "\n"
   ]
  },
  {
   "cell_type": "code",
   "execution_count": null,
   "id": "492d8a6c",
   "metadata": {},
   "outputs": [],
   "source": []
  }
 ],
 "metadata": {
  "kernelspec": {
   "display_name": "Python 3",
   "language": "python",
   "name": "python3"
  },
  "language_info": {
   "codemirror_mode": {
    "name": "ipython",
    "version": 3
   },
   "file_extension": ".py",
   "mimetype": "text/x-python",
   "name": "python",
   "nbconvert_exporter": "python",
   "pygments_lexer": "ipython3",
   "version": "3.8.8"
  }
 },
 "nbformat": 4,
 "nbformat_minor": 5
}
